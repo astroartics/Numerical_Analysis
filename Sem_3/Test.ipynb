{
 "cells": [
  {
   "cell_type": "code",
   "execution_count": 1,
   "id": "08dba73e-13e9-43b4-94c5-a6a33fa31ff9",
   "metadata": {},
   "outputs": [],
   "source": [
    "import InterpolationLib\n",
    "\n",
    "i = InterpolationLib.Interpolation([4,5,7,10,11,13], [48,100,294,900,1210,2028])"
   ]
  },
  {
   "cell_type": "code",
   "execution_count": 2,
   "id": "75ccb6cc-8169-4b3f-916f-b00822a8e50e",
   "metadata": {},
   "outputs": [],
   "source": [
    "import NumericalIntegration\n",
    "\n",
    "ni = NumericalIntegration.Numerical_Integration(1, 4, 6)"
   ]
  },
  {
   "cell_type": "code",
   "execution_count": null,
   "id": "9a475628-2d81-4ae1-ad74-23668195ff21",
   "metadata": {},
   "outputs": [],
   "source": []
  }
 ],
 "metadata": {
  "kernelspec": {
   "display_name": "Python 3 (ipykernel)",
   "language": "python",
   "name": "python3"
  },
  "language_info": {
   "codemirror_mode": {
    "name": "ipython",
    "version": 3
   },
   "file_extension": ".py",
   "mimetype": "text/x-python",
   "name": "python",
   "nbconvert_exporter": "python",
   "pygments_lexer": "ipython3",
   "version": "3.10.12"
  }
 },
 "nbformat": 4,
 "nbformat_minor": 5
}
