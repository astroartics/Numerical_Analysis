{
 "cells": [
  {
   "cell_type": "code",
   "execution_count": 27,
   "id": "113ce187-379f-47f7-9b15-8377580207bf",
   "metadata": {},
   "outputs": [],
   "source": [
    "import numpy as np"
   ]
  },
  {
   "cell_type": "code",
   "execution_count": 113,
   "id": "8071cb5c-a095-4007-addb-ebf927ae7742",
   "metadata": {},
   "outputs": [],
   "source": [
    "# Euler's method: y_(n+1) = y_n + hf(x_n, y_n)\n",
    "# ---- Plot step size 'h' and error on X and Y axes, and check if reducing 'h' reduces the error\n",
    "\n",
    "class ODE:\n",
    "    def __init__(self, x, y0):\n",
    "        self.x = x\n",
    "        self.y = [y0]\n",
    "\n",
    "    def f_ode(self, x_point, y_point):\n",
    "        return (x_point + y_point)\n",
    "\n",
    "    def f_actual(self, x_point):\n",
    "        return (2 * np.exp(x_point) - x_point - 1)\n",
    "\n",
    "    def eulers_method(self):\n",
    "        cnt = 0\n",
    "        h = self.x[1] - self.x[0]\n",
    "        actual_error_sum = 0.0\n",
    "        old_error_sum = 0.0\n",
    "        old_error = []\n",
    "        actual_error = []\n",
    "\n",
    "        while True:\n",
    "            cnt = 0\n",
    "            while cnt < len(self.x):\n",
    "                old_error\n",
    "                self.y.append(self.y[cnt] + (h * self.f_ode(self.x[cnt], self.y[cnt])))       \n",
    "                cnt += 1\n",
    "            if abs(old_error_sum - actual_error_sum) > pow(10, -6):\n",
    "                break\n",
    "\n",
    "    # def eulers_method(self):\n",
    "    #     error_values = [0.0]\n",
    "    #     h_values = []\n",
    "        \n",
    "    #     cnt = 0\n",
    "    #     error_index = 0\n",
    "    #     h = self.x[1] - self.x[0]\n",
    "    #     old_error = 100\n",
    "    #     while abs(old_error - error_values[error_index]) > pow(10, -6):\n",
    "    #         self.y.append(self.y[cnt] + (h * self.f_ode(self.x[cnt], self.y[cnt])))    \n",
    "    #         old_error = error_values[error_index]\n",
    "    #         print(\"Old error : \", old_error)\n",
    "    #         error_index += 1\n",
    "    #         error_values.append((abs(self.y[cnt - 1] - self.f_actual(self.x[cnt - 1]))))\n",
    "    #         print(error_values)\n",
    "    #         if cnt == (len(self.x) - 1):\n",
    "    #             h /= 10\n",
    "    #         cnt = (cnt + 1) % len(self.x)\n",
    "        # while cnt < len(self.x):\n",
    "        #     self.y.append(self.y[cnt] + (h * self.f_ode(self.x[cnt], self.y[cnt])))       \n",
    "        #     cnt = (cnt + 1) % len(self.x)\n",
    "\n",
    "    # def modified_euler_method"
   ]
  },
  {
   "cell_type": "code",
   "execution_count": 114,
   "id": "c853f458-bb74-4677-8d65-bca72a94eebc",
   "metadata": {},
   "outputs": [
    {
     "ename": "KeyboardInterrupt",
     "evalue": "",
     "output_type": "error",
     "traceback": [
      "\u001b[0;31m---------------------------------------------------------------------------\u001b[0m",
      "\u001b[0;31mKeyboardInterrupt\u001b[0m                         Traceback (most recent call last)",
      "Cell \u001b[0;32mIn[114], line 2\u001b[0m\n\u001b[1;32m      1\u001b[0m ode_obj \u001b[38;5;241m=\u001b[39m ODE([\u001b[38;5;241m0\u001b[39m, \u001b[38;5;241m0.1\u001b[39m, \u001b[38;5;241m0.2\u001b[39m, \u001b[38;5;241m0.3\u001b[39m, \u001b[38;5;241m0.4\u001b[39m, \u001b[38;5;241m0.5\u001b[39m], \u001b[38;5;241m1\u001b[39m)\n\u001b[0;32m----> 2\u001b[0m \u001b[43mode_obj\u001b[49m\u001b[38;5;241;43m.\u001b[39;49m\u001b[43meulers_method\u001b[49m\u001b[43m(\u001b[49m\u001b[43m)\u001b[49m\n\u001b[1;32m      3\u001b[0m ode_obj\u001b[38;5;241m.\u001b[39my\n",
      "Cell \u001b[0;32mIn[113], line 27\u001b[0m, in \u001b[0;36mODE.eulers_method\u001b[0;34m(self)\u001b[0m\n\u001b[1;32m     25\u001b[0m \u001b[38;5;28;01mwhile\u001b[39;00m cnt \u001b[38;5;241m<\u001b[39m \u001b[38;5;28mlen\u001b[39m(\u001b[38;5;28mself\u001b[39m\u001b[38;5;241m.\u001b[39mx):\n\u001b[1;32m     26\u001b[0m     old_error\n\u001b[0;32m---> 27\u001b[0m     \u001b[38;5;28mself\u001b[39m\u001b[38;5;241m.\u001b[39my\u001b[38;5;241m.\u001b[39mappend(\u001b[38;5;28mself\u001b[39m\u001b[38;5;241m.\u001b[39my[cnt] \u001b[38;5;241m+\u001b[39m (h \u001b[38;5;241m*\u001b[39m \u001b[38;5;28;43mself\u001b[39;49m\u001b[38;5;241;43m.\u001b[39;49m\u001b[43mf_ode\u001b[49m\u001b[43m(\u001b[49m\u001b[38;5;28;43mself\u001b[39;49m\u001b[38;5;241;43m.\u001b[39;49m\u001b[43mx\u001b[49m\u001b[43m[\u001b[49m\u001b[43mcnt\u001b[49m\u001b[43m]\u001b[49m\u001b[43m,\u001b[49m\u001b[43m \u001b[49m\u001b[38;5;28;43mself\u001b[39;49m\u001b[38;5;241;43m.\u001b[39;49m\u001b[43my\u001b[49m\u001b[43m[\u001b[49m\u001b[43mcnt\u001b[49m\u001b[43m]\u001b[49m\u001b[43m)\u001b[49m))       \n\u001b[1;32m     28\u001b[0m     cnt \u001b[38;5;241m+\u001b[39m\u001b[38;5;241m=\u001b[39m \u001b[38;5;241m1\u001b[39m\n\u001b[1;32m     29\u001b[0m \u001b[38;5;28;01mif\u001b[39;00m \u001b[38;5;28mabs\u001b[39m(old_error_sum \u001b[38;5;241m-\u001b[39m actual_error_sum) \u001b[38;5;241m>\u001b[39m \u001b[38;5;28mpow\u001b[39m(\u001b[38;5;241m10\u001b[39m, \u001b[38;5;241m-\u001b[39m\u001b[38;5;241m6\u001b[39m):\n",
      "\u001b[0;31mKeyboardInterrupt\u001b[0m: "
     ]
    }
   ],
   "source": [
    "ode_obj = ODE([0, 0.1, 0.2, 0.3, 0.4, 0.5], 1)\n",
    "ode_obj.eulers_method()\n",
    "ode_obj.y"
   ]
  },
  {
   "cell_type": "code",
   "execution_count": null,
   "id": "3acf92c8-b285-4420-bb30-e44eab5089c8",
   "metadata": {},
   "outputs": [],
   "source": []
  },
  {
   "cell_type": "code",
   "execution_count": null,
   "id": "1f11295b-ce5e-44a9-bb52-3abc9d9c6292",
   "metadata": {},
   "outputs": [],
   "source": []
  }
 ],
 "metadata": {
  "kernelspec": {
   "display_name": "Python 3 (ipykernel)",
   "language": "python",
   "name": "python3"
  },
  "language_info": {
   "codemirror_mode": {
    "name": "ipython",
    "version": 3
   },
   "file_extension": ".py",
   "mimetype": "text/x-python",
   "name": "python",
   "nbconvert_exporter": "python",
   "pygments_lexer": "ipython3",
   "version": "3.10.12"
  }
 },
 "nbformat": 4,
 "nbformat_minor": 5
}
