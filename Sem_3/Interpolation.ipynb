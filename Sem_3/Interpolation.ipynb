{
 "cells": [
  {
   "cell_type": "code",
   "execution_count": 576,
   "id": "ec612850-dfae-424a-9536-7ce4eeaa0155",
   "metadata": {},
   "outputs": [],
   "source": [
    "# Newton's forward, backward and divided difference\n",
    "\n",
    "import math\n",
    "import numpy as np\n",
    "\n",
    "class Interpolation:\n",
    "    def __init__(self, x, y):\n",
    "        self.x = x\n",
    "        self.y = y\n",
    "        self.forward_diff_row = []\n",
    "        self.backward_diff_row = []\n",
    "        self.divided_diff = []\n",
    "        self.gauss_forward_diff = []\n",
    "        self.gauss_backward_diff = []\n",
    "        self.difference_table()\n",
    "\n",
    "    def difference_table(self):\n",
    "        # self.forward_diff_row = []\n",
    "        # self.backward_diff_row = []\n",
    "        curr_col = self.y.copy()\n",
    "        curr_len = len(curr_col)\n",
    "        \n",
    "        while(curr_len > 1):\n",
    "            for i in range (0, curr_len - 1):\n",
    "                sub = curr_col[i + 1] - curr_col[i]\n",
    "                if i == 0:\n",
    "                    self.forward_diff_row.append(sub)\n",
    "                if i == (curr_len - 2):\n",
    "                    self.backward_diff_row.append(sub)\n",
    "                curr_col.append(sub)\n",
    "            curr_col = curr_col[curr_len:]\n",
    "            curr_len = len(curr_col)  \n",
    "\n",
    "    def calculating_u(self, u, n, is_forward):\n",
    "        temp = 1\n",
    "        if is_forward:\n",
    "            for i in range(0, n):\n",
    "                temp *= (u - i)\n",
    "        else:\n",
    "            for i in range(0, n):\n",
    "                temp *= (u + i)\n",
    "        return temp\n",
    "\n",
    "    def newtons_forward_difference(self, x_point):\n",
    "        h = self.x[1] - self.x[0]\n",
    "        u = (x_point - self.x[0]) / h\n",
    "        # self.difference_table()\n",
    "        n = len(self.forward_diff_row)\n",
    "        yx = self.y[0]\n",
    "        for i in range(1, n + 1):  # +1 ensures the last difference (delta y0) is included\n",
    "            yx = yx + (self.calculating_u(u, i, True) * self.forward_diff_row[i-1] / math.factorial(i))\n",
    "        return yx\n",
    "\n",
    "    def newtons_backward_difference(self, x_point):\n",
    "        h = self.x[1] - self.x[0]\n",
    "        u = (x_point - self.x[len(self.x) - 1]) / h\n",
    "        # self.difference_table()\n",
    "        n = len(self.backward_diff_row)\n",
    "        yx = self.y[len(self.y) - 1]\n",
    "        for i in range(1, n + 1):  \n",
    "            yx += (self.calculating_u(u, i, False) * self.backward_diff_row[i-1] / math.factorial(i))\n",
    "        return yx\n",
    "\n",
    "    def calculating_divided_x(self, x_point, n):\n",
    "        temp = 1\n",
    "        for i in range(0, n):\n",
    "            temp *= (x_point - self.x[i])\n",
    "        return temp\n",
    "\n",
    "    def newtons_divided_difference(self, x_point):\n",
    "        n = len(self.y)\n",
    "        self.divided_diff = []\n",
    "        curr_col = self.y.copy()\n",
    "        curr_x = self.x.copy()\n",
    "        \n",
    "        for i in range(1, n):\n",
    "            for j in range(n - i):\n",
    "                curr_col[j] = (curr_col[j + 1] - curr_col[j]) / (curr_x[i + j] - curr_x[j])\n",
    "            self.divided_diff.append(curr_col[0])\n",
    "        fx = self.y[0]\n",
    "        for i in range(len(self.divided_diff)):\n",
    "            fx += self.calculating_divided_x(x_point, i + 1) * self.divided_diff[i]\n",
    "        return fx\n",
    "\n",
    "        # Converting y to 2D list for having access to the whole table\n",
    "        # curr_col = [[0 for i in range(n)]\n",
    "        #                for j in range(n)];\n",
    "        # for i in range(0, n):\n",
    "        #     curr_col[i][0] = self.y[i]\n",
    "        # print(curr_col)\n",
    "\n",
    "        # Inside j for loop\n",
    "                # curr_col[j][i] = (curr_col[j + 1][i - 1] - curr_col[j][i - 1]) / (curr_x[i + j] - curr_x[j])\n",
    "                # curr_col[j + 1][i - 1] - curr_col[j][i - 1] -> going along the column and subtracting next value in row from current value.\n",
    "                # Column remains constant as (i - 1) because indexing starts from 0\n",
    "\n",
    "        # for i in range(n):\n",
    "        #     for j in range(n - i):\n",
    "        #         print(curr_col[i], end = \"\\t\")\n",
    "        #     print(\"\\n\")\n",
    "\n",
    "    def Lagrange_Interpolation(self, x_point):\n",
    "        ratio = 1.0\n",
    "        result = 0.0\n",
    "\n",
    "        for i in range(len(self.x)):\n",
    "            ratio = 1.0\n",
    "            for j in range(len(self.x)):\n",
    "                if i != j:\n",
    "                    ratio *= (x_point - self.x[j]) / (self.x[i] - self.x[j])\n",
    "            result += self.y[i] * ratio\n",
    "        return result\n",
    "\n",
    "    def Stirlings_central_difference(self, x_point):\n",
    "        n = len(self.y)\n",
    "        self.gauss_forward_diff = []\n",
    "        self.gauss_backward_diff = []\n",
    "        curr_col = self.y.copy()\n",
    "        curr_x = self.x.copy()\n",
    "        midpoint_forward = midpoint_backward = math.floor(len(curr_col) / 2) \n",
    "        forward_y0 = curr_col[midpoint_forward]\n",
    "        backward_y0 = curr_col[midpoint_backward]\n",
    "        \n",
    "        for i in range(1, n):\n",
    "            new_col = []\n",
    "            for j in range(n - i):\n",
    "                new_col.append(curr_col[j + 1] - curr_col[j])\n",
    "            curr_col = new_col\n",
    "\n",
    "            L = len(curr_col)\n",
    "            f_index = b_index = 0\n",
    "            if i % 2 != 0:  # odd\n",
    "                b_index = midpoint_backward - (i // 2) - 1  # Go upwards\n",
    "            else:           # even\n",
    "                b_index = midpoint_backward - (i // 2)  # Stay on the same index\n",
    "\n",
    "            f_index = midpoint_forward - (i // 2) # Always moves upwards\n",
    "    \n",
    "            # Clamp within bounds\n",
    "            if 0 <= f_index < L:\n",
    "                self.gauss_forward_diff.append(round(curr_col[f_index], 3))\n",
    "            if 0 <= b_index < L:\n",
    "                self.gauss_backward_diff.append(round(curr_col[b_index], 3))\n",
    "\n",
    "        h = self.x[1] - self.x[0]\n",
    "        p = (x_point - self.x[0]) / h\n",
    "        yx = self.y[0]\n",
    "        for i in range(len(self.gauss_forward_diff)):\n",
    "            yx += \n",
    "\n",
    "                \n",
    "        # n = len(self.y)\n",
    "        # self.gauss_forward_diff = []\n",
    "        # # Converting y to 2D list for having access to the whole table\n",
    "        # curr_col = [[0 for i in range(n)]\n",
    "        #                for j in range(n)];\n",
    "        # for i in range(0, n):\n",
    "        #     curr_col[i][0] = self.y[i]\n",
    "        # midpoint = math.floor(len(curr_col) / 2)\n",
    "        # self.gauss_forward_diff.append(curr_col[midpoint][0])\n",
    "\n",
    "        # for i in range(1, n):            \n",
    "        #     for j in range(n - i):\n",
    "        #         curr_col[j][i] = (curr_col[j + 1][i - 1] - curr_col[j][i - 1])\n",
    "            # self.gauss_forward_diff.append(curr_col[midpoint])\n",
    "            # if i%2 != 0:\n",
    "            #     midpoint -= 1    "
   ]
  },
  {
   "cell_type": "code",
   "execution_count": 581,
   "id": "0c1a30e5-3020-493e-8ff1-66a0cf6ed969",
   "metadata": {},
   "outputs": [
    {
     "name": "stdout",
     "output_type": "stream",
     "text": [
      "[-0.987, -0.094, -0.007, 0.026]\n",
      "[-0.893, -0.094, -0.033, 0.026]\n"
     ]
    }
   ],
   "source": [
    "# i4 = Interpolation([0,4,8,12,16], [14,24,32,35,40])\n",
    "# i4.Stirlings_central_difference(9)\n",
    "# print(i4.gauss_forward_diff)\n",
    "\n",
    "# i5 = Interpolation([1901, 1911, 1921, 1931, 1941, 1951], [12, 15, 20, 27, 39, 52])\n",
    "# i5.Stirlings_central_difference(1950)\n",
    "# print(i5.gauss_backward_diff)\n",
    "\n",
    "i6 = Interpolation([2,6,10,14,18], [21.857, 21.025, 20.132, 19.145, 18.057])\n",
    "i6.Stirlings_central_difference(35)\n",
    "print(i6.gauss_forward_diff)\n",
    "print(i6.gauss_backward_diff)"
   ]
  },
  {
   "cell_type": "code",
   "execution_count": 307,
   "id": "2e2a9b8d-75fd-4bde-94b9-855495718888",
   "metadata": {},
   "outputs": [
    {
     "name": "stdout",
     "output_type": "stream",
     "text": [
      "56.8671875\n",
      "100.4704875\n"
     ]
    }
   ],
   "source": [
    "i1 = Interpolation([1891, 1901, 1911, 1921, 1931], [46, 66, 81, 93, 101])\n",
    "\n",
    "result1 = i1.newtons_forward_difference(1896)\n",
    "print(result1)\n",
    "\n",
    "result2 = i1.newtons_backward_difference(1930)\n",
    "print(result2)"
   ]
  },
  {
   "cell_type": "code",
   "execution_count": 308,
   "id": "7637c401-09fa-4afa-9ae6-16cef65e1c10",
   "metadata": {},
   "outputs": [],
   "source": [
    "# ni = Newtons_Interpolation([0,1,2,3], [1,0,1,10])\n",
    "# result = ni.forward_difference(-1)\n",
    "# print(result)"
   ]
  },
  {
   "cell_type": "code",
   "execution_count": 309,
   "id": "3498a4c7-b587-4c09-8576-3649e42b038e",
   "metadata": {},
   "outputs": [
    {
     "name": "stdout",
     "output_type": "stream",
     "text": [
      "448.0\n",
      "[52.0, 15.0, 1.0, 0.0, 0.0]\n"
     ]
    }
   ],
   "source": [
    "i2 = Interpolation([4,5,7,10,11,13], [48,100,294,900,1210,2028])\n",
    "\n",
    "print(i2.newtons_divided_difference(8))\n",
    "print(i2.divided_diff)"
   ]
  },
  {
   "cell_type": "code",
   "execution_count": 310,
   "id": "d5c4c711-9c4e-445e-8871-9ca708ccf871",
   "metadata": {},
   "outputs": [
    {
     "name": "stdout",
     "output_type": "stream",
     "text": [
      "14.666666666666666\n"
     ]
    }
   ],
   "source": [
    "i3 = Interpolation([5,6,9,11], [12,13,14,16])\n",
    "print(i3.Lagrange_Interpolation(10))"
   ]
  },
  {
   "cell_type": "code",
   "execution_count": null,
   "id": "d8a3fb64-319f-444d-b654-6f51e782737f",
   "metadata": {},
   "outputs": [],
   "source": []
  },
  {
   "cell_type": "code",
   "execution_count": null,
   "id": "fb843c27-36fb-4cd4-965e-50c64887eb09",
   "metadata": {},
   "outputs": [],
   "source": []
  }
 ],
 "metadata": {
  "kernelspec": {
   "display_name": "Python 3 (ipykernel)",
   "language": "python",
   "name": "python3"
  },
  "language_info": {
   "codemirror_mode": {
    "name": "ipython",
    "version": 3
   },
   "file_extension": ".py",
   "mimetype": "text/x-python",
   "name": "python",
   "nbconvert_exporter": "python",
   "pygments_lexer": "ipython3",
   "version": "3.10.12"
  }
 },
 "nbformat": 4,
 "nbformat_minor": 5
}
