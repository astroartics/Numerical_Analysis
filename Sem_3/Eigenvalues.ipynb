{
 "cells": [
  {
   "cell_type": "code",
   "execution_count": 1,
   "id": "436315fd-b512-4bb4-899f-b9ee2d894fdc",
   "metadata": {},
   "outputs": [],
   "source": [
    "import numpy as np"
   ]
  },
  {
   "cell_type": "code",
   "execution_count": 55,
   "id": "18201511-ebae-428d-9937-bf0992137e3a",
   "metadata": {},
   "outputs": [],
   "source": [
    "class Linear_Transformation:\n",
    "    def __init__(self, A, v, tolerance = 1e-6):\n",
    "        self.A = np.array(A)\n",
    "        self.v = np.array(v)\n",
    "        self.tolerance = tolerance\n",
    "\n",
    "    def power_method(self, num_iterations = 100):\n",
    "        old_result = 0\n",
    "        result = 0\n",
    "        \n",
    "        for i in range(num_iterations):\n",
    "            w = self.A @ self.v\n",
    "            w_norm = np.linalg.norm(self.A @ self.v)\n",
    "\n",
    "            v_next = w / w_norm\n",
    "            \n",
    "            result = (self.v.T @ self.A @ self.v) / (self.v.T @ self.v)\n",
    "\n",
    "            if np.abs(result - old_result) < self.tolerance:\n",
    "                break\n",
    "\n",
    "            self.v = v_next\n",
    "            old_result = result\n",
    "\n",
    "        return round(result, 6), self.v"
   ]
  },
  {
   "cell_type": "code",
   "execution_count": 56,
   "id": "40563f69-5c9c-4d5c-b9f7-d029b81fa8f0",
   "metadata": {},
   "outputs": [
    {
     "name": "stdout",
     "output_type": "stream",
     "text": [
      "-2.000001 \n",
      " [0.94868328 0.31622783]\n"
     ]
    }
   ],
   "source": [
    "LT_obj = Linear_Transformation([[2, -12], [1, -5]], [1, 1])\n",
    "eigenvalue, eigenvector = LT_obj.power_method(100)\n",
    "print(eigenvalue, \"\\n\", eigenvector)"
   ]
  },
  {
   "cell_type": "code",
   "execution_count": null,
   "id": "0541fd1e-d44c-433c-9258-7140e4363ece",
   "metadata": {},
   "outputs": [],
   "source": []
  }
 ],
 "metadata": {
  "kernelspec": {
   "display_name": "Python 3 (ipykernel)",
   "language": "python",
   "name": "python3"
  },
  "language_info": {
   "codemirror_mode": {
    "name": "ipython",
    "version": 3
   },
   "file_extension": ".py",
   "mimetype": "text/x-python",
   "name": "python",
   "nbconvert_exporter": "python",
   "pygments_lexer": "ipython3",
   "version": "3.10.12"
  }
 },
 "nbformat": 4,
 "nbformat_minor": 5
}
