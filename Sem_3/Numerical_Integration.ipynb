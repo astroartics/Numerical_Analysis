{
 "cells": [
  {
   "cell_type": "code",
   "execution_count": 2,
   "id": "7d23584e-f764-4a3c-8abc-c50c1dde3276",
   "metadata": {},
   "outputs": [],
   "source": [
    "import math\n",
    "import numpy as np\n",
    "import sympy as sp"
   ]
  },
  {
   "cell_type": "code",
   "execution_count": 3,
   "id": "cff2247d-10a9-46fb-8abd-f5088958a585",
   "metadata": {},
   "outputs": [],
   "source": [
    "class Numerical_Integration:\n",
    "    def __init__(self, a, b, n):\n",
    "        self.x = []\n",
    "        self.y = []\n",
    "        self.a = a\n",
    "        self.b = b\n",
    "        self.n = n\n",
    "        self.h = (self.b - self.a) / self.n\n",
    "        self.calculate_x_y()\n",
    "        self.x_point = sp.Symbol('x', real=True)\n",
    "        self.f_x = sp.sqrt((self.x_point ** 3) + 1)\n",
    "\n",
    "    def calculate_x_y(self):\n",
    "        self.x.append(self.a)\n",
    "        for i in range(1, self.n + 1):\n",
    "            self.x.append(self.x[i - 1] + self.h)     \n",
    "        for i in range(0, self.n + 1):\n",
    "            self.y.append(round(self.f(self.x[i]), 4))\n",
    "    \n",
    "    def f(self, x_pt):\n",
    "        return math.sqrt(math.pow(x_pt, 3) + 1)\n",
    "    \n",
    "    def Trapezoidal_Rule(self):\n",
    "        fx = self.y[0] + self.y[self.n]\n",
    "        for i in range(1, self.n):\n",
    "            fx += (2 * self.y[i])\n",
    "        fx *= (self.h / 2)\n",
    "        return fx\n",
    "\n",
    "    def Simpsons_13_Rule(self):\n",
    "        if self.n%2 != 0:\n",
    "            print(\"Simpson's 1/3 rule requires sub-intervals 'n' to be even.\")\n",
    "            return \n",
    "        \n",
    "        fx = self.y[0] + self.y[self.n]\n",
    "        for i in range(1, self.n):\n",
    "            if i%2 != 0:\n",
    "                fx += (4 * self.y[i])\n",
    "            else:\n",
    "                fx += (2 * self.y[i])\n",
    "        fx *= (self.h / 3)\n",
    "        return fx\n",
    "\n",
    "    def Simpsons_38_Rule(self):\n",
    "        if self.n%3 != 0:\n",
    "            print(\"Simpson's 3/8 rule requires sub-intervals 'n' to be divisible by 3.\")\n",
    "            return \n",
    "        \n",
    "        fx = self.y[0] + self.y[self.n]\n",
    "        for i in range(1, self.n):\n",
    "            if i%3 != 0:\n",
    "                fx += (3 * self.y[i])\n",
    "            else:\n",
    "                fx += (2 * self.y[i])\n",
    "        fx *= ((3 * self.h) / 8)\n",
    "        return fx   "
   ]
  },
  {
   "cell_type": "code",
   "execution_count": 4,
   "id": "553c6a35-14e2-42a6-881f-e84db94ee11d",
   "metadata": {},
   "outputs": [
    {
     "name": "stdout",
     "output_type": "stream",
     "text": [
      "12.911325\n",
      "12.871849999999998\n",
      "12.87230625\n"
     ]
    }
   ],
   "source": [
    "ni = Numerical_Integration(1, 4, 6)\n",
    "print(ni.Trapezoidal_Rule())\n",
    "print(ni.Simpsons_13_Rule())\n",
    "print(ni.Simpsons_38_Rule())"
   ]
  },
  {
   "cell_type": "code",
   "execution_count": null,
   "id": "c5f3eaaf-75d4-460b-9563-91aebcffa27e",
   "metadata": {},
   "outputs": [],
   "source": []
  },
  {
   "cell_type": "code",
   "execution_count": 5,
   "id": "369b2545-767b-4e62-a4be-ca4d64b2de0b",
   "metadata": {},
   "outputs": [],
   "source": [
    "# func = input(\"Enter a function: \")\n",
    "# ni.f_x = func\n",
    "# ni.f_x"
   ]
  },
  {
   "cell_type": "code",
   "execution_count": 6,
   "id": "32c86e92-f62b-46cb-a94b-7135a3e9036a",
   "metadata": {},
   "outputs": [
    {
     "name": "stdout",
     "output_type": "stream",
     "text": [
      "0.08286407592029854\n",
      "0.0011911710913542915\n",
      "0.008040404866641468\n"
     ]
    }
   ],
   "source": [
    "# Error bounds\n",
    "\n",
    "f_derivative_2 = sp.diff(ni.f_x, ni.x_point, 2)\n",
    "f_derivative_4 = sp.diff(ni.f_x, ni.x_point, 4)\n",
    "\n",
    "x_vals = np.linspace(ni.a, ni.b, 500)\n",
    "max_f2 = max(abs(f_derivative_2.subs(ni.x_point, val)) for val in x_vals)  # Substituting value of 'val' in range a to b in the derivative equation\n",
    "max_f4 = max(abs(f_derivative_4.subs(ni.x_point, val)) for val in x_vals)\n",
    "\n",
    "Trapezoidal_error = float(((ni.b - ni.a) ** 3 / (12 * (ni.n ** 2))) * max_f2)\n",
    "Simpsons_13_error = float(((ni.b - ni.a) ** 5 / (180 * (ni.n ** 4))) * max_f4)\n",
    "Simpsons_38_error = float((3 * (ni.b - ni.a) ** 5 / (80 * (ni.n ** 4))) * max_f4)\n",
    "\n",
    "print(Trapezoidal_error)\n",
    "print(Simpsons_13_error)\n",
    "print(Simpsons_38_error)"
   ]
  },
  {
   "cell_type": "code",
   "execution_count": null,
   "id": "1ef142d7-1bd6-488a-80b7-28b25d5b342f",
   "metadata": {},
   "outputs": [],
   "source": []
  },
  {
   "cell_type": "code",
   "execution_count": null,
   "id": "aab25f30-5fab-4283-b6b4-93a77ee1636a",
   "metadata": {},
   "outputs": [],
   "source": []
  },
  {
   "cell_type": "code",
   "execution_count": null,
   "id": "ffff4d39-6ef1-432e-9136-02e5fa8dbd6d",
   "metadata": {},
   "outputs": [],
   "source": []
  }
 ],
 "metadata": {
  "kernelspec": {
   "display_name": "Python 3 (ipykernel)",
   "language": "python",
   "name": "python3"
  },
  "language_info": {
   "codemirror_mode": {
    "name": "ipython",
    "version": 3
   },
   "file_extension": ".py",
   "mimetype": "text/x-python",
   "name": "python",
   "nbconvert_exporter": "python",
   "pygments_lexer": "ipython3",
   "version": "3.10.12"
  }
 },
 "nbformat": 4,
 "nbformat_minor": 5
}
