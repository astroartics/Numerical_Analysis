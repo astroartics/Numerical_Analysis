{
 "cells": [
  {
   "cell_type": "code",
   "execution_count": 14,
   "id": "7d23584e-f764-4a3c-8abc-c50c1dde3276",
   "metadata": {},
   "outputs": [],
   "source": [
    "import math"
   ]
  },
  {
   "cell_type": "code",
   "execution_count": 61,
   "id": "cff2247d-10a9-46fb-8abd-f5088958a585",
   "metadata": {},
   "outputs": [],
   "source": [
    "class Numerical_Integration:\n",
    "    def __init__(self, a, b, n):\n",
    "        self.x = []\n",
    "        self.y = []\n",
    "        self.a = a\n",
    "        self.b = b\n",
    "        self.n = n\n",
    "        self.h = (self.b - self.a) / self.n\n",
    "        self.calculate_x_y()\n",
    "\n",
    "    def calculate_x_y(self):\n",
    "        self.x.append(self.a)\n",
    "        for i in range(1, self.n + 1):\n",
    "            self.x.append(self.x[i - 1] + self.h)     \n",
    "        for i in range(0, self.n + 1):\n",
    "            self.y.append(round(self.f(self.x[i]), 4))\n",
    "    \n",
    "    def f(self, x_point):\n",
    "        return math.sqrt(math.pow(x_point, 3) + 1)\n",
    "    \n",
    "    def Trapezoidal_Rule(self):\n",
    "        fx = self.y[0] + self.y[self.n]\n",
    "        for i in range(1, self.n):\n",
    "            fx += (2 * self.y[i])\n",
    "        fx *= (self.h / 2)\n",
    "        return fx\n",
    "\n",
    "    def Simpsons_13_Rule(self):\n",
    "        fx = self.y[0] + self.y[self.n]\n",
    "        for i in range(1, self.n):\n",
    "            if i%2 != 0:\n",
    "                fx += (4 * self.y[i])\n",
    "            else:\n",
    "                fx += (2 * self.y[i])\n",
    "        fx *= (self.h / 3)\n",
    "        return fx\n",
    "\n",
    "    def Simpsons_38_Rule(self):\n",
    "        fx = self.y[0] + self.y[self.n]\n",
    "        for i in range(1, self.n):\n",
    "            if i%3 != 0:\n",
    "                fx += (3 * self.y[i])\n",
    "            else:\n",
    "                fx += (2 * self.y[i])\n",
    "        fx *= ((3 * self.h) / 8)\n",
    "        return fx   "
   ]
  },
  {
   "cell_type": "code",
   "execution_count": 63,
   "id": "553c6a35-14e2-42a6-881f-e84db94ee11d",
   "metadata": {},
   "outputs": [
    {
     "name": "stdout",
     "output_type": "stream",
     "text": [
      "12.911325\n",
      "12.871849999999998\n",
      "12.87230625\n"
     ]
    }
   ],
   "source": [
    "ni = Numerical_Integration(1, 4, 6)\n",
    "print(ni.Trapezoidal_Rule())\n",
    "print(ni.Simpsons_13_Rule())\n",
    "print(ni.Simpsons_38_Rule())"
   ]
  }
 ],
 "metadata": {
  "kernelspec": {
   "display_name": "Python 3 (ipykernel)",
   "language": "python",
   "name": "python3"
  },
  "language_info": {
   "codemirror_mode": {
    "name": "ipython",
    "version": 3
   },
   "file_extension": ".py",
   "mimetype": "text/x-python",
   "name": "python",
   "nbconvert_exporter": "python",
   "pygments_lexer": "ipython3",
   "version": "3.10.12"
  }
 },
 "nbformat": 4,
 "nbformat_minor": 5
}
