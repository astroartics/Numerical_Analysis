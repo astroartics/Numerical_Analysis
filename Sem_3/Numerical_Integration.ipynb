{
 "cells": [
  {
   "cell_type": "code",
   "execution_count": 3,
   "id": "7d23584e-f764-4a3c-8abc-c50c1dde3276",
   "metadata": {},
   "outputs": [],
   "source": [
    "import math\n",
    "import sympy as sp"
   ]
  },
  {
   "cell_type": "code",
   "execution_count": 17,
   "id": "cff2247d-10a9-46fb-8abd-f5088958a585",
   "metadata": {},
   "outputs": [],
   "source": [
    "class Numerical_Integration:\n",
    "    def __init__(self, a, b, n, func_expr):\n",
    "        self.x = []\n",
    "        self.y = []\n",
    "        self.a = a\n",
    "        self.b = b\n",
    "        self.n = n\n",
    "        self.h = (self.b - self.a) / self.n\n",
    "        self.x_point = sp.Symbol('x', real=True)\n",
    "        self.f_x = sp.sympify(func_expr)\n",
    "        self.f = sp.lambdify(self.x_point, self.f_x, modules = [\"math\"])\n",
    "        self.calculate_x_y()\n",
    "\n",
    "    def calculate_x_y(self):\n",
    "        self.x.append(self.a)\n",
    "        for i in range(1, self.n + 1):\n",
    "            self.x.append(self.x[i - 1] + self.h)     \n",
    "        for i in range(0, self.n + 1):\n",
    "            self.y.append(round(self.f(self.x[i]), 4))\n",
    "    \n",
    "    # def f(self, x_pt):\n",
    "    #     return math.sqrt(math.pow(x_pt, 3) + 1)\n",
    "    \n",
    "    def Trapezoidal_Rule(self):\n",
    "        fx = self.y[0] + self.y[self.n]\n",
    "        for i in range(1, self.n):\n",
    "            fx += (2 * self.y[i])\n",
    "        fx *= (self.h / 2)\n",
    "        return fx\n",
    "\n",
    "    def Simpsons_13_Rule(self):\n",
    "        if self.n%2 != 0:\n",
    "            print(\"Simpson's 1/3 rule requires sub-intervals 'n' to be even.\")\n",
    "            return \n",
    "        \n",
    "        fx = self.y[0] + self.y[self.n]\n",
    "        for i in range(1, self.n):\n",
    "            if i%2 != 0:\n",
    "                fx += (4 * self.y[i])\n",
    "            else:\n",
    "                fx += (2 * self.y[i])\n",
    "        fx *= (self.h / 3)\n",
    "        return fx\n",
    "\n",
    "    def Simpsons_38_Rule(self):\n",
    "        if self.n%3 != 0:\n",
    "            print(\"Simpson's 3/8 rule requires sub-intervals 'n' to be divisible by 3.\")\n",
    "            return \n",
    "        \n",
    "        fx = self.y[0] + self.y[self.n]\n",
    "        for i in range(1, self.n):\n",
    "            if i%3 != 0:\n",
    "                fx += (3 * self.y[i])\n",
    "            else:\n",
    "                fx += (2 * self.y[i])\n",
    "        fx *= ((3 * self.h) / 8)\n",
    "        return fx   "
   ]
  },
  {
   "cell_type": "code",
   "execution_count": 18,
   "id": "553c6a35-14e2-42a6-881f-e84db94ee11d",
   "metadata": {},
   "outputs": [
    {
     "ename": "AttributeError",
     "evalue": "'Numerical_Integration' object has no attribute 'f'",
     "output_type": "error",
     "traceback": [
      "\u001b[0;31m---------------------------------------------------------------------------\u001b[0m",
      "\u001b[0;31mAttributeError\u001b[0m                            Traceback (most recent call last)",
      "Cell \u001b[0;32mIn[18], line 1\u001b[0m\n\u001b[0;32m----> 1\u001b[0m ni \u001b[38;5;241m=\u001b[39m \u001b[43mNumerical_Integration\u001b[49m\u001b[43m(\u001b[49m\u001b[38;5;241;43m1\u001b[39;49m\u001b[43m,\u001b[49m\u001b[43m \u001b[49m\u001b[38;5;241;43m4\u001b[39;49m\u001b[43m,\u001b[49m\u001b[43m \u001b[49m\u001b[38;5;241;43m6\u001b[39;49m\u001b[43m,\u001b[49m\u001b[43m \u001b[49m\u001b[38;5;124;43m\"\u001b[39;49m\u001b[38;5;124;43msqrt(x**3 + 1)\u001b[39;49m\u001b[38;5;124;43m\"\u001b[39;49m\u001b[43m)\u001b[49m\n\u001b[1;32m      2\u001b[0m \u001b[38;5;28mprint\u001b[39m(ni\u001b[38;5;241m.\u001b[39mTrapezoidal_Rule())\n\u001b[1;32m      3\u001b[0m \u001b[38;5;28mprint\u001b[39m(ni\u001b[38;5;241m.\u001b[39mSimpsons_13_Rule())\n",
      "Cell \u001b[0;32mIn[17], line 9\u001b[0m, in \u001b[0;36mNumerical_Integration.__init__\u001b[0;34m(self, a, b, n, func_expr)\u001b[0m\n\u001b[1;32m      7\u001b[0m \u001b[38;5;28mself\u001b[39m\u001b[38;5;241m.\u001b[39mn \u001b[38;5;241m=\u001b[39m n\n\u001b[1;32m      8\u001b[0m \u001b[38;5;28mself\u001b[39m\u001b[38;5;241m.\u001b[39mh \u001b[38;5;241m=\u001b[39m (\u001b[38;5;28mself\u001b[39m\u001b[38;5;241m.\u001b[39mb \u001b[38;5;241m-\u001b[39m \u001b[38;5;28mself\u001b[39m\u001b[38;5;241m.\u001b[39ma) \u001b[38;5;241m/\u001b[39m \u001b[38;5;28mself\u001b[39m\u001b[38;5;241m.\u001b[39mn\n\u001b[0;32m----> 9\u001b[0m \u001b[38;5;28;43mself\u001b[39;49m\u001b[38;5;241;43m.\u001b[39;49m\u001b[43mcalculate_x_y\u001b[49m\u001b[43m(\u001b[49m\u001b[43m)\u001b[49m\n\u001b[1;32m     10\u001b[0m \u001b[38;5;28mself\u001b[39m\u001b[38;5;241m.\u001b[39mx_point \u001b[38;5;241m=\u001b[39m sp\u001b[38;5;241m.\u001b[39mSymbol(\u001b[38;5;124m'\u001b[39m\u001b[38;5;124mx\u001b[39m\u001b[38;5;124m'\u001b[39m, real\u001b[38;5;241m=\u001b[39m\u001b[38;5;28;01mTrue\u001b[39;00m)\n\u001b[1;32m     11\u001b[0m \u001b[38;5;28mself\u001b[39m\u001b[38;5;241m.\u001b[39mf_x \u001b[38;5;241m=\u001b[39m sp\u001b[38;5;241m.\u001b[39msympify(func_expr)\n",
      "Cell \u001b[0;32mIn[17], line 19\u001b[0m, in \u001b[0;36mNumerical_Integration.calculate_x_y\u001b[0;34m(self)\u001b[0m\n\u001b[1;32m     17\u001b[0m     \u001b[38;5;28mself\u001b[39m\u001b[38;5;241m.\u001b[39mx\u001b[38;5;241m.\u001b[39mappend(\u001b[38;5;28mself\u001b[39m\u001b[38;5;241m.\u001b[39mx[i \u001b[38;5;241m-\u001b[39m \u001b[38;5;241m1\u001b[39m] \u001b[38;5;241m+\u001b[39m \u001b[38;5;28mself\u001b[39m\u001b[38;5;241m.\u001b[39mh)     \n\u001b[1;32m     18\u001b[0m \u001b[38;5;28;01mfor\u001b[39;00m i \u001b[38;5;129;01min\u001b[39;00m \u001b[38;5;28mrange\u001b[39m(\u001b[38;5;241m0\u001b[39m, \u001b[38;5;28mself\u001b[39m\u001b[38;5;241m.\u001b[39mn \u001b[38;5;241m+\u001b[39m \u001b[38;5;241m1\u001b[39m):\n\u001b[0;32m---> 19\u001b[0m     \u001b[38;5;28mself\u001b[39m\u001b[38;5;241m.\u001b[39my\u001b[38;5;241m.\u001b[39mappend(\u001b[38;5;28mround\u001b[39m(\u001b[38;5;28;43mself\u001b[39;49m\u001b[38;5;241;43m.\u001b[39;49m\u001b[43mf\u001b[49m(\u001b[38;5;28mself\u001b[39m\u001b[38;5;241m.\u001b[39mx[i]), \u001b[38;5;241m4\u001b[39m))\n",
      "\u001b[0;31mAttributeError\u001b[0m: 'Numerical_Integration' object has no attribute 'f'"
     ]
    }
   ],
   "source": [
    "ni = Numerical_Integration(1, 4, 6, \"sqrt(x**3 + 1)\")\n",
    "print(ni.Trapezoidal_Rule())\n",
    "print(ni.Simpsons_13_Rule())\n",
    "print(ni.Simpsons_38_Rule())"
   ]
  },
  {
   "cell_type": "code",
   "execution_count": null,
   "id": "c5f3eaaf-75d4-460b-9563-91aebcffa27e",
   "metadata": {},
   "outputs": [],
   "source": []
  },
  {
   "cell_type": "code",
   "execution_count": 15,
   "id": "369b2545-767b-4e62-a4be-ca4d64b2de0b",
   "metadata": {},
   "outputs": [],
   "source": [
    "# func = input(\"Enter a function: \")\n",
    "# ni.f_x = func\n",
    "# ni.f_x"
   ]
  },
  {
   "cell_type": "code",
   "execution_count": 16,
   "id": "32c86e92-f62b-46cb-a94b-7135a3e9036a",
   "metadata": {},
   "outputs": [
    {
     "name": "stdout",
     "output_type": "stream",
     "text": [
      "0.0\n",
      "0.0\n",
      "0.0\n"
     ]
    }
   ],
   "source": [
    "# Error bounds\n",
    "\n",
    "f_derivative_2 = sp.diff(ni.f_x, ni.x_point, 2)\n",
    "f_derivative_4 = sp.diff(ni.f_x, ni.x_point, 4)\n",
    "\n",
    "max_f2 = max(abs(f_derivative_2.subs(ni.x_point, val)) for val in [ni.a, ni.b])\n",
    "max_f4 = max(abs(f_derivative_4.subs(ni.x_point, val)) for val in [ni.a, ni.b])\n",
    "\n",
    "Trapezoidal_error = float(((ni.b - ni.a) ** 3 / (12 * (ni.n ** 2))) * max_f2)\n",
    "Simpsons_13_error = float(((ni.b - ni.a) ** 5 / (180 * (ni.n ** 4))) * max_f4)\n",
    "Simpsons_38_error = float((3 * (ni.b - ni.a) ** 5 / (80 * (ni.n ** 4))) * max_f4)\n",
    "\n",
    "print(Trapezoidal_error)\n",
    "print(Simpsons_13_error)\n",
    "print(Simpsons_38_error)"
   ]
  },
  {
   "cell_type": "code",
   "execution_count": null,
   "id": "1ef142d7-1bd6-488a-80b7-28b25d5b342f",
   "metadata": {},
   "outputs": [],
   "source": []
  }
 ],
 "metadata": {
  "kernelspec": {
   "display_name": "Python 3 (ipykernel)",
   "language": "python",
   "name": "python3"
  },
  "language_info": {
   "codemirror_mode": {
    "name": "ipython",
    "version": 3
   },
   "file_extension": ".py",
   "mimetype": "text/x-python",
   "name": "python",
   "nbconvert_exporter": "python",
   "pygments_lexer": "ipython3",
   "version": "3.10.12"
  }
 },
 "nbformat": 4,
 "nbformat_minor": 5
}
