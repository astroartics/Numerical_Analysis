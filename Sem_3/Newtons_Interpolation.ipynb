{
 "cells": [
  {
   "cell_type": "code",
   "execution_count": 3,
   "id": "e54485d3-0d31-44b3-97cf-832fd3b9f74f",
   "metadata": {},
   "outputs": [
    {
     "ename": "IndentationError",
     "evalue": "expected an indented block after function definition on line 22 (2935958269.py, line 25)",
     "output_type": "error",
     "traceback": [
      "\u001b[0;36m  Cell \u001b[0;32mIn[3], line 25\u001b[0;36m\u001b[0m\n\u001b[0;31m    ni = Newtons_Interpolation([4,6,8,10], [1,3,8,10])\u001b[0m\n\u001b[0m                                                      ^\u001b[0m\n\u001b[0;31mIndentationError\u001b[0m\u001b[0;31m:\u001b[0m expected an indented block after function definition on line 22\n"
     ]
    }
   ],
   "source": [
    "# Newton's forward difference\n",
    "\n",
    "class Newtons_Interpolation:\n",
    "    def __init__(self, x, y):\n",
    "        self.x = x\n",
    "        self.y = y\n",
    "\n",
    "    def difference_table(self):\n",
    "        curr_col = self.y\n",
    "        curr_len = len(curr_col)\n",
    "        diff = []\n",
    "        while(curr_len > 1):\n",
    "            for i in range (0, curr_len - 1):\n",
    "                sub = curr_col[i + 1] - curr_col[i]\n",
    "                if i == 0:\n",
    "                    diff.append(sub)\n",
    "                curr_col.append(sub)\n",
    "            curr_col = curr_col[curr_len:]\n",
    "            curr_len = len(curr_col)         \n",
    "        print(diff)\n",
    "\n",
    "    def forward_difference(self, x):\n",
    "        h = \n",
    "        u = \n",
    "\n",
    "ni = Newtons_Interpolation([4,6,8,10], [1,3,8,10])\n",
    "ni.difference_table()"
   ]
  },
  {
   "cell_type": "code",
   "execution_count": null,
   "id": "ec612850-dfae-424a-9536-7ce4eeaa0155",
   "metadata": {},
   "outputs": [],
   "source": []
  }
 ],
 "metadata": {
  "kernelspec": {
   "display_name": "Python 3 (ipykernel)",
   "language": "python",
   "name": "python3"
  },
  "language_info": {
   "codemirror_mode": {
    "name": "ipython",
    "version": 3
   },
   "file_extension": ".py",
   "mimetype": "text/x-python",
   "name": "python",
   "nbconvert_exporter": "python",
   "pygments_lexer": "ipython3",
   "version": "3.10.12"
  }
 },
 "nbformat": 4,
 "nbformat_minor": 5
}
