{
 "cells": [
  {
   "cell_type": "code",
   "execution_count": 47,
   "id": "ec612850-dfae-424a-9536-7ce4eeaa0155",
   "metadata": {},
   "outputs": [
    {
     "name": "stdout",
     "output_type": "stream",
     "text": [
      "54.8528\n"
     ]
    }
   ],
   "source": [
    "# Newton's forward difference\n",
    "\n",
    "import math\n",
    "\n",
    "class Newtons_Interpolation:\n",
    "    def __init__(self, x, y):\n",
    "        self.x = x\n",
    "        self.y = y\n",
    "\n",
    "    def difference_table(self):\n",
    "        curr_col = self.y\n",
    "        curr_len = len(curr_col)\n",
    "        diff = []\n",
    "        while(curr_len > 1):\n",
    "            for i in range (0, curr_len - 1):\n",
    "                sub = curr_col[i + 1] - curr_col[i]\n",
    "                if i == 0:\n",
    "                    diff.append(sub)\n",
    "                curr_col.append(sub)\n",
    "            curr_col = curr_col[curr_len:]\n",
    "            curr_len = len(curr_col)  \n",
    "        return diff\n",
    "\n",
    "    def calculating_u(self, u, n):\n",
    "        temp = 1\n",
    "        for i in range(0, n):\n",
    "            temp *= (u - i)\n",
    "        return temp\n",
    "\n",
    "    def forward_difference(self, x_point):\n",
    "        h = self.x[1] - self.x[0]\n",
    "        u = (x_point - self.x[0]) / h\n",
    "        diff_table = self.difference_table()\n",
    "        n = len(diff_table)\n",
    "        yx = self.y[0]\n",
    "        \n",
    "        for i in range(1, n+1):\n",
    "            yx = yx + (self.calculating_u(u, i) * diff_table[i-1] / math.factorial(i))\n",
    "        print(yx)\n",
    "\n",
    "ni = Newtons_Interpolation([1891, 1901, 1911, 1921, 1931], [46, 66, 81, 93, 101])\n",
    "ni.forward_difference(1895)"
   ]
  },
  {
   "cell_type": "code",
   "execution_count": null,
   "id": "2e2a9b8d-75fd-4bde-94b9-855495718888",
   "metadata": {},
   "outputs": [],
   "source": []
  },
  {
   "cell_type": "code",
   "execution_count": null,
   "id": "7637c401-09fa-4afa-9ae6-16cef65e1c10",
   "metadata": {},
   "outputs": [],
   "source": []
  }
 ],
 "metadata": {
  "kernelspec": {
   "display_name": "Python 3 (ipykernel)",
   "language": "python",
   "name": "python3"
  },
  "language_info": {
   "codemirror_mode": {
    "name": "ipython",
    "version": 3
   },
   "file_extension": ".py",
   "mimetype": "text/x-python",
   "name": "python",
   "nbconvert_exporter": "python",
   "pygments_lexer": "ipython3",
   "version": "3.10.12"
  }
 },
 "nbformat": 4,
 "nbformat_minor": 5
}
