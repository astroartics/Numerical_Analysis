{
 "cells": [
  {
   "cell_type": "code",
   "execution_count": 1,
   "id": "28b18f38-8602-4129-8542-7a01a2c13ea3",
   "metadata": {},
   "outputs": [],
   "source": [
    "# Divided difference, Lagranges, Stirling's"
   ]
  },
  {
   "cell_type": "code",
   "execution_count": 157,
   "id": "ec612850-dfae-424a-9536-7ce4eeaa0155",
   "metadata": {},
   "outputs": [],
   "source": [
    "# Newton's forward and backward difference\n",
    "\n",
    "import math\n",
    "import numpy as np\n",
    "\n",
    "class Newtons_Interpolation:\n",
    "    def __init__(self, x, y):\n",
    "        self.x = x\n",
    "        self.y = y\n",
    "        self.forward_diff_row = []\n",
    "        self.backward_diff_row = []\n",
    "        self.divided_diff = []\n",
    "        self.difference_table()\n",
    "\n",
    "    def difference_table(self):\n",
    "        # self.forward_diff_row = []\n",
    "        # self.backward_diff_row = []\n",
    "        curr_col = self.y.copy()\n",
    "        curr_len = len(curr_col)\n",
    "        \n",
    "        while(curr_len > 1):\n",
    "            for i in range (0, curr_len - 1):\n",
    "                sub = curr_col[i + 1] - curr_col[i]\n",
    "                if i == 0:\n",
    "                    self.forward_diff_row.append(sub)\n",
    "                if i == (curr_len - 2):\n",
    "                    self.backward_diff_row.append(sub)\n",
    "                curr_col.append(sub)\n",
    "            curr_col = curr_col[curr_len:]\n",
    "            curr_len = len(curr_col)  \n",
    "\n",
    "    def calculating_forward_u(self, u, n):\n",
    "        temp = 1\n",
    "        for i in range(0, n):\n",
    "            temp *= (u - i)\n",
    "        return temp\n",
    "\n",
    "    def forward_difference(self, x_point):\n",
    "        h = self.x[1] - self.x[0]\n",
    "        u = (x_point - self.x[0]) / h\n",
    "        # self.difference_table()\n",
    "        n = len(self.forward_diff_row)\n",
    "        yx = self.y[0]\n",
    "        for i in range(1, n + 1):  # +1 ensures the last difference (delta y0) is included\n",
    "            yx = yx + (self.calculating_forward_u(u, i) * self.forward_diff_row[i-1] / math.factorial(i))\n",
    "        return yx\n",
    "\n",
    "    def calculating_backward_u(self, u, n):\n",
    "        temp = 1\n",
    "        for i in range(0, n):\n",
    "            temp *= (u + i)\n",
    "        return temp\n",
    "\n",
    "    def backward_difference(self, x_point):\n",
    "        h = self.x[1] - self.x[0]\n",
    "        u = (x_point - self.x[len(self.x) - 1]) / h\n",
    "        # self.difference_table()\n",
    "        n = len(self.backward_diff_row)\n",
    "        yx = self.y[len(self.y) - 1]\n",
    "        for i in range(1, n + 1):  \n",
    "            yx += (self.calculating_backward_u(u, i) * self.backward_diff_row[i-1] / math.factorial(i))\n",
    "        return yx\n",
    "\n",
    "    def calculating_divided_x(self, x_point, n):\n",
    "        temp = 1\n",
    "        for i in range(0, n):\n",
    "            temp *= (x_point - self.x[i])\n",
    "        return temp\n",
    "\n",
    "    def divided_difference(self, x_point):\n",
    "        n = len(self.y)\n",
    "        self.divided_diff = []\n",
    "        curr_col = self.y.copy()\n",
    "        curr_x = self.x.copy()\n",
    "        \n",
    "        for i in range(1, n):\n",
    "            for j in range(n - i):\n",
    "                curr_col[j] = (curr_col[j + 1] - curr_col[j]) / (curr_x[i + j] - curr_x[j])\n",
    "            self.divided_diff.append(curr_col[0])\n",
    "        fx = self.y[0]\n",
    "        for i in range(len(self.divided_diff)):\n",
    "            fx += self.calculating_divided_x(x_point, i + 1) * self.divided_diff[i]\n",
    "        return fx\n",
    "\n",
    "        # Converting y to 2D list for having access to the whole table\n",
    "        # curr_col = [[0 for i in range(n)]\n",
    "        #                for j in range(n)];\n",
    "        # for i in range(0, n):\n",
    "        #     curr_col[i][0] = self.y[i]\n",
    "        # print(curr_col)\n",
    "\n",
    "        # Inside j for loop\n",
    "                # curr_col[j][i] = (curr_col[j + 1][i - 1] - curr_col[j][i - 1]) / (curr_x[i + j] - curr_x[j])\n",
    "                # curr_col[j + 1][i - 1] - curr_col[j][i - 1] -> going along the column and subtracting next value in row from current value.\n",
    "                # Column remains constant as (i - 1) because indexing starts from 0\n",
    "\n",
    "        # for i in range(n):\n",
    "        #     for j in range(n - i):\n",
    "        #         print(curr_col[i], end = \"\\t\")\n",
    "        #     print(\"\\n\")"
   ]
  },
  {
   "cell_type": "code",
   "execution_count": 161,
   "id": "2e2a9b8d-75fd-4bde-94b9-855495718888",
   "metadata": {},
   "outputs": [
    {
     "name": "stdout",
     "output_type": "stream",
     "text": [
      "56.8671875\n",
      "100.4704875\n"
     ]
    }
   ],
   "source": [
    "ni1 = Newtons_Interpolation([1891, 1901, 1911, 1921, 1931], [46, 66, 81, 93, 101])\n",
    "\n",
    "result1 = ni1.forward_difference(1896)\n",
    "print(result1)\n",
    "\n",
    "result2 = ni1.backward_difference(1930)\n",
    "print(result2)"
   ]
  },
  {
   "cell_type": "code",
   "execution_count": 162,
   "id": "7637c401-09fa-4afa-9ae6-16cef65e1c10",
   "metadata": {},
   "outputs": [],
   "source": [
    "# ni = Newtons_Interpolation([0,1,2,3], [1,0,1,10])\n",
    "# result = ni.forward_difference(-1)\n",
    "# print(result)"
   ]
  },
  {
   "cell_type": "code",
   "execution_count": 163,
   "id": "3498a4c7-b587-4c09-8576-3649e42b038e",
   "metadata": {},
   "outputs": [
    {
     "name": "stdout",
     "output_type": "stream",
     "text": [
      "448.0\n",
      "[52.0, 15.0, 1.0, 0.0, 0.0]\n"
     ]
    }
   ],
   "source": [
    "ni2 = Newtons_Interpolation([4,5,7,10,11,13], [48,100,294,900,1210,2028])\n",
    "\n",
    "print(ni2.divided_difference(8))\n",
    "print(ni2.divided_diff)"
   ]
  }
 ],
 "metadata": {
  "kernelspec": {
   "display_name": "Python 3 (ipykernel)",
   "language": "python",
   "name": "python3"
  },
  "language_info": {
   "codemirror_mode": {
    "name": "ipython",
    "version": 3
   },
   "file_extension": ".py",
   "mimetype": "text/x-python",
   "name": "python",
   "nbconvert_exporter": "python",
   "pygments_lexer": "ipython3",
   "version": "3.10.12"
  }
 },
 "nbformat": 4,
 "nbformat_minor": 5
}
